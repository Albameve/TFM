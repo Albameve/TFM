{
  "nbformat": 4,
  "nbformat_minor": 0,
  "metadata": {
    "colab": {
      "name": "TFM Modelos.ipynb",
      "provenance": []
    },
    "kernelspec": {
      "name": "python3",
      "display_name": "Python 3"
    },
    "language_info": {
      "name": "python"
    }
  },
  "cells": [
    {
      "cell_type": "code",
      "execution_count": null,
      "metadata": {
        "colab": {
          "base_uri": "https://localhost:8080/"
        },
        "id": "PIpCZRPmklaS",
        "outputId": "10eda7cc-57ae-4371-b27a-03175fd1e21c"
      },
      "outputs": [
        {
          "output_type": "stream",
          "name": "stdout",
          "text": [
            "[nltk_data] Downloading package stopwords to /root/nltk_data...\n",
            "[nltk_data]   Package stopwords is already up-to-date!\n",
            "[nltk_data] Downloading package punkt to /root/nltk_data...\n",
            "[nltk_data]   Package punkt is already up-to-date!\n",
            "[nltk_data] Downloading package averaged_perceptron_tagger to\n",
            "[nltk_data]     /root/nltk_data...\n",
            "[nltk_data]   Package averaged_perceptron_tagger is already up-to-\n",
            "[nltk_data]       date!\n",
            "[nltk_data] Downloading package wordnet to /root/nltk_data...\n",
            "[nltk_data]   Package wordnet is already up-to-date!\n",
            "[nltk_data] Downloading package genesis to /root/nltk_data...\n",
            "[nltk_data]   Package genesis is already up-to-date!\n",
            "[nltk_data] Downloading package wordnet to /root/nltk_data...\n",
            "[nltk_data]   Package wordnet is already up-to-date!\n"
          ]
        }
      ],
      "source": [
        "import pandas as pd\n",
        "import numpy as np\n",
        "import seaborn as sns\n",
        "import matplotlib.pyplot as plt\n",
        "\n",
        "#for text pre-processing\n",
        "import re, string\n",
        "import nltk\n",
        "from nltk.tokenize import word_tokenize\n",
        "from nltk.corpus import stopwords\n",
        "from nltk.stem import SnowballStemmer\n",
        "from nltk.corpus import wordnet\n",
        "from nltk.stem import WordNetLemmatizer\n",
        "from nltk.corpus import wordnet as wn\n",
        "nltk.download('stopwords')\n",
        "nltk.download('punkt')\n",
        "nltk.download('averaged_perceptron_tagger')\n",
        "nltk.download('wordnet')\n",
        "from nltk.corpus import genesis\n",
        "nltk.download('genesis')\n",
        "nltk.download('wordnet')\n",
        "genesis_ic = wn.ic(genesis, False, 0.0)\n",
        "\n",
        "#for model-building\n",
        "from sklearn.model_selection import train_test_split\n",
        "from sklearn.linear_model import LogisticRegression\n",
        "from sklearn.naive_bayes import MultinomialNB\n",
        "from sklearn.metrics import classification_report, f1_score, accuracy_score, confusion_matrix\n",
        "from sklearn.metrics import roc_curve, auc, roc_auc_score, mean_squared_error, r2_score\n",
        "from sklearn import model_selection, naive_bayes, svm\n",
        "# bag of words\n",
        "from sklearn.feature_extraction.text import TfidfVectorizer\n",
        "from sklearn.feature_extraction.text import CountVectorizer\n",
        "#for word embedding\n",
        "import gensim\n",
        "from gensim.models import Word2Vec\n",
        "from nltk import pos_tag\n",
        "from sklearn.preprocessing import LabelEncoder\n",
        "from collections import defaultdict\n",
        "import os\n",
        "import sys\n",
        "import numpy\n",
        "from sklearn.svm import LinearSVC\n",
        "from sklearn.metrics import confusion_matrix\n",
        "from sklearn.feature_extraction.text import CountVectorizer\n",
        "from sklearn.feature_extraction.text import TfidfTransformer\n",
        "from sklearn.feature_extraction.text import TfidfVectorizer\n",
        "from sklearn import metrics\n",
        "from sklearn.datasets import load_files\n",
        "from sklearn.model_selection import train_test_split\n",
        "from sklearn.metrics import accuracy_score\n",
        "from xgboost import XGBClassifier\n",
        "from sklearn.neighbors import KNeighborsClassifier\n",
        "from numpy import mean\n",
        "from numpy import std\n",
        "from sklearn.datasets import make_classification\n",
        "from sklearn.model_selection import cross_val_score\n",
        "from sklearn.model_selection import RepeatedStratifiedKFold\n",
        "from sklearn.ensemble import RandomForestClassifier\n",
        "\n",
        "import pandas as pd\n",
        "import os\n",
        "from sklearn.preprocessing import LabelEncoder\n",
        "\n",
        "from nltk.stem.porter import PorterStemmer\n",
        "from nltk.stem.lancaster import LancasterStemmer\n",
        "from tensorflow.keras import Model\n",
        "from sklearn import linear_model"
      ]
    },
    {
      "cell_type": "markdown",
      "source": [
        "Vamos a usar la base de datos que se encuentra en Google Drive por ello usamos el siguiente comando: \n"
      ],
      "metadata": {
        "id": "EGRBWNyklBjv"
      }
    },
    {
      "cell_type": "code",
      "source": [
        "from google.colab import drive\n",
        "drive.mount('/content/gdrive')"
      ],
      "metadata": {
        "colab": {
          "base_uri": "https://localhost:8080/"
        },
        "id": "sult0XbclAsi",
        "outputId": "9282ff15-2515-4dfa-fe09-5a317eeed867"
      },
      "execution_count": null,
      "outputs": [
        {
          "output_type": "stream",
          "name": "stdout",
          "text": [
            "Drive already mounted at /content/gdrive; to attempt to forcibly remount, call drive.mount(\"/content/gdrive\", force_remount=True).\n"
          ]
        }
      ]
    },
    {
      "cell_type": "markdown",
      "source": [
        "Nuestra base de datos se va a llamar df_train"
      ],
      "metadata": {
        "id": "TOvEMXvelSIH"
      }
    },
    {
      "cell_type": "code",
      "source": [
        "df_train=pd.read_csv('/content/gdrive/My Drive/PAEV1 - Final.csv')"
      ],
      "metadata": {
        "id": "XAdsJjJwlO21"
      },
      "execution_count": null,
      "outputs": []
    },
    {
      "cell_type": "code",
      "source": [
        "df_test=pd.read_csv('/content/gdrive/My Drive/PAEV1 - Problemas.csv')"
      ],
      "metadata": {
        "id": "VZBxzOiClRGy"
      },
      "execution_count": null,
      "outputs": []
    },
    {
      "cell_type": "markdown",
      "source": [
        "Análisis exploratorio de los datos "
      ],
      "metadata": {
        "id": "f1H5JtDUlXSW"
      }
    },
    {
      "cell_type": "code",
      "source": [
        "df_train.describe()"
      ],
      "metadata": {
        "colab": {
          "base_uri": "https://localhost:8080/",
          "height": 175
        },
        "id": "tS0RRy_Q1Yu4",
        "outputId": "e8e44ece-b8cb-43a8-b85e-cdadb0e511d8"
      },
      "execution_count": null,
      "outputs": [
        {
          "output_type": "execute_result",
          "data": {
            "text/plain": [
              "                                                 Problema   Clase\n",
              "count                                                 604     604\n",
              "unique                                                604       4\n",
              "top     Amparo tiene 5 lapices y le da 2 a Israel ¿Cuá...  Cambio\n",
              "freq                                                    1     157"
            ],
            "text/html": [
              "\n",
              "  <div id=\"df-632e8bc4-141e-4f1a-9c95-9a9d6459224a\">\n",
              "    <div class=\"colab-df-container\">\n",
              "      <div>\n",
              "<style scoped>\n",
              "    .dataframe tbody tr th:only-of-type {\n",
              "        vertical-align: middle;\n",
              "    }\n",
              "\n",
              "    .dataframe tbody tr th {\n",
              "        vertical-align: top;\n",
              "    }\n",
              "\n",
              "    .dataframe thead th {\n",
              "        text-align: right;\n",
              "    }\n",
              "</style>\n",
              "<table border=\"1\" class=\"dataframe\">\n",
              "  <thead>\n",
              "    <tr style=\"text-align: right;\">\n",
              "      <th></th>\n",
              "      <th>Problema</th>\n",
              "      <th>Clase</th>\n",
              "    </tr>\n",
              "  </thead>\n",
              "  <tbody>\n",
              "    <tr>\n",
              "      <th>count</th>\n",
              "      <td>604</td>\n",
              "      <td>604</td>\n",
              "    </tr>\n",
              "    <tr>\n",
              "      <th>unique</th>\n",
              "      <td>604</td>\n",
              "      <td>4</td>\n",
              "    </tr>\n",
              "    <tr>\n",
              "      <th>top</th>\n",
              "      <td>Amparo tiene 5 lapices y le da 2 a Israel ¿Cuá...</td>\n",
              "      <td>Cambio</td>\n",
              "    </tr>\n",
              "    <tr>\n",
              "      <th>freq</th>\n",
              "      <td>1</td>\n",
              "      <td>157</td>\n",
              "    </tr>\n",
              "  </tbody>\n",
              "</table>\n",
              "</div>\n",
              "      <button class=\"colab-df-convert\" onclick=\"convertToInteractive('df-632e8bc4-141e-4f1a-9c95-9a9d6459224a')\"\n",
              "              title=\"Convert this dataframe to an interactive table.\"\n",
              "              style=\"display:none;\">\n",
              "        \n",
              "  <svg xmlns=\"http://www.w3.org/2000/svg\" height=\"24px\"viewBox=\"0 0 24 24\"\n",
              "       width=\"24px\">\n",
              "    <path d=\"M0 0h24v24H0V0z\" fill=\"none\"/>\n",
              "    <path d=\"M18.56 5.44l.94 2.06.94-2.06 2.06-.94-2.06-.94-.94-2.06-.94 2.06-2.06.94zm-11 1L8.5 8.5l.94-2.06 2.06-.94-2.06-.94L8.5 2.5l-.94 2.06-2.06.94zm10 10l.94 2.06.94-2.06 2.06-.94-2.06-.94-.94-2.06-.94 2.06-2.06.94z\"/><path d=\"M17.41 7.96l-1.37-1.37c-.4-.4-.92-.59-1.43-.59-.52 0-1.04.2-1.43.59L10.3 9.45l-7.72 7.72c-.78.78-.78 2.05 0 2.83L4 21.41c.39.39.9.59 1.41.59.51 0 1.02-.2 1.41-.59l7.78-7.78 2.81-2.81c.8-.78.8-2.07 0-2.86zM5.41 20L4 18.59l7.72-7.72 1.47 1.35L5.41 20z\"/>\n",
              "  </svg>\n",
              "      </button>\n",
              "      \n",
              "  <style>\n",
              "    .colab-df-container {\n",
              "      display:flex;\n",
              "      flex-wrap:wrap;\n",
              "      gap: 12px;\n",
              "    }\n",
              "\n",
              "    .colab-df-convert {\n",
              "      background-color: #E8F0FE;\n",
              "      border: none;\n",
              "      border-radius: 50%;\n",
              "      cursor: pointer;\n",
              "      display: none;\n",
              "      fill: #1967D2;\n",
              "      height: 32px;\n",
              "      padding: 0 0 0 0;\n",
              "      width: 32px;\n",
              "    }\n",
              "\n",
              "    .colab-df-convert:hover {\n",
              "      background-color: #E2EBFA;\n",
              "      box-shadow: 0px 1px 2px rgba(60, 64, 67, 0.3), 0px 1px 3px 1px rgba(60, 64, 67, 0.15);\n",
              "      fill: #174EA6;\n",
              "    }\n",
              "\n",
              "    [theme=dark] .colab-df-convert {\n",
              "      background-color: #3B4455;\n",
              "      fill: #D2E3FC;\n",
              "    }\n",
              "\n",
              "    [theme=dark] .colab-df-convert:hover {\n",
              "      background-color: #434B5C;\n",
              "      box-shadow: 0px 1px 3px 1px rgba(0, 0, 0, 0.15);\n",
              "      filter: drop-shadow(0px 1px 2px rgba(0, 0, 0, 0.3));\n",
              "      fill: #FFFFFF;\n",
              "    }\n",
              "  </style>\n",
              "\n",
              "      <script>\n",
              "        const buttonEl =\n",
              "          document.querySelector('#df-632e8bc4-141e-4f1a-9c95-9a9d6459224a button.colab-df-convert');\n",
              "        buttonEl.style.display =\n",
              "          google.colab.kernel.accessAllowed ? 'block' : 'none';\n",
              "\n",
              "        async function convertToInteractive(key) {\n",
              "          const element = document.querySelector('#df-632e8bc4-141e-4f1a-9c95-9a9d6459224a');\n",
              "          const dataTable =\n",
              "            await google.colab.kernel.invokeFunction('convertToInteractive',\n",
              "                                                     [key], {});\n",
              "          if (!dataTable) return;\n",
              "\n",
              "          const docLinkHtml = 'Like what you see? Visit the ' +\n",
              "            '<a target=\"_blank\" href=https://colab.research.google.com/notebooks/data_table.ipynb>data table notebook</a>'\n",
              "            + ' to learn more about interactive tables.';\n",
              "          element.innerHTML = '';\n",
              "          dataTable['output_type'] = 'display_data';\n",
              "          await google.colab.output.renderOutput(dataTable, element);\n",
              "          const docLink = document.createElement('div');\n",
              "          docLink.innerHTML = docLinkHtml;\n",
              "          element.appendChild(docLink);\n",
              "        }\n",
              "      </script>\n",
              "    </div>\n",
              "  </div>\n",
              "  "
            ]
          },
          "metadata": {},
          "execution_count": 63
        }
      ]
    },
    {
      "cell_type": "code",
      "source": [
        "x=df_train['Clase'].value_counts()\n",
        "print(x)\n",
        "sns.barplot(x.index,x)"
      ],
      "metadata": {
        "colab": {
          "base_uri": "https://localhost:8080/",
          "height": 429
        },
        "id": "HYW6memflm_f",
        "outputId": "04db0baf-9f0e-49ba-b174-18c97ab7004b"
      },
      "execution_count": null,
      "outputs": [
        {
          "output_type": "stream",
          "name": "stdout",
          "text": [
            "Cambio         157\n",
            "Combinación    153\n",
            "Igualación     150\n",
            "Comparación    144\n",
            "Name: Clase, dtype: int64\n"
          ]
        },
        {
          "output_type": "stream",
          "name": "stderr",
          "text": [
            "/usr/local/lib/python3.7/dist-packages/seaborn/_decorators.py:43: FutureWarning: Pass the following variables as keyword args: x, y. From version 0.12, the only valid positional argument will be `data`, and passing other arguments without an explicit keyword will result in an error or misinterpretation.\n",
            "  FutureWarning\n"
          ]
        },
        {
          "output_type": "execute_result",
          "data": {
            "text/plain": [
              "<matplotlib.axes._subplots.AxesSubplot at 0x7f029f7ae250>"
            ]
          },
          "metadata": {},
          "execution_count": 64
        },
        {
          "output_type": "display_data",
          "data": {
            "text/plain": [
              "<Figure size 432x288 with 1 Axes>"
            ],
            "image/png": "[encoded data removed]"
          },
          "metadata": {
            "needs_background": "light"
          }
        }
      ]
    },
    {
      "cell_type": "code",
      "source": [
        "df_train['word_count'] = df_train['Problema'].apply(lambda x: len(str(x).split()))\n",
        "print(df_train[df_train['Clase']==\"Igualación\"]['word_count'].mean()) #Problemas de igualación\n",
        "print(df_train[df_train['Clase']==\"Combinación\"]['word_count'].mean()) #Problemas de combinación\n",
        "print(df_train[df_train['Clase']==\"Cambio\"]['word_count'].mean()) #Problemas de igualación\n",
        "print(df_train[df_train['Clase']==\"Comparación\"]['word_count'].mean()) #Problemas de comparación"
      ],
      "metadata": {
        "colab": {
          "base_uri": "https://localhost:8080/"
        },
        "id": "WS2zQx6elrms",
        "outputId": "08c78d9c-0232-4af9-ed86-11babd72bfef"
      },
      "execution_count": null,
      "outputs": [
        {
          "output_type": "stream",
          "name": "stdout",
          "text": [
            "25.933333333333334\n",
            "20.92156862745098\n",
            "19.97452229299363\n",
            "21.65277777777778\n"
          ]
        }
      ]
    },
    {
      "cell_type": "code",
      "source": [
        "# CONTEO DE PALABRAS\n",
        "fig,(ax1,ax2,ax3,ax4) = plt.subplots(1,4)\n",
        "train_words=df_train[df_train['Clase']==\"Igualación\"]['word_count']\n",
        "ax1.hist(train_words,color='red')\n",
        "ax1.set_title('Igualación')\n",
        "train_words=df_train[df_train['Clase']==\"Combinación\"]['word_count']\n",
        "ax2.hist(train_words,color='green')\n",
        "ax2.set_title('Combinación')\n",
        "train_words=df_train[df_train['Clase']==\"Cambio\"]['word_count']\n",
        "ax3.hist(train_words,color='blue')\n",
        "ax3.set_title('Cambio')\n",
        "train_words=df_train[df_train['Clase']==\"Comparación\"]['word_count']\n",
        "ax4.hist(train_words,color='pink')\n",
        "ax4.set_title('Comparación')\n",
        "fig.suptitle('PAEV')\n",
        "plt.show()"
      ],
      "metadata": {
        "colab": {
          "base_uri": "https://localhost:8080/",
          "height": 294
        },
        "id": "_q8hnsEOlroG",
        "outputId": "324b09ad-040d-4a87-afc2-2e59dbec6034"
      },
      "execution_count": null,
      "outputs": [
        {
          "output_type": "display_data",
          "data": {
            "text/plain": [
              "<Figure size 432x288 with 4 Axes>"
            ],
            "image/png": "[encoded data removed]"
          },
          "metadata": {
            "needs_background": "light"
          }
        }
      ]
    },
    {
      "cell_type": "code",
      "source": [
        "# NÚMERO DE LETRAS\n",
        "df_train['char_count'] = df_train['Problema'].apply(lambda x: len(str(x)))\n",
        "print(df_train[df_train['Clase']==\"Combinación\"]['char_count'].mean())\n",
        "print(df_train[df_train['Clase']==\"Igualación\"]['char_count'].mean()) \n",
        "print(df_train[df_train['Clase']==\"Cambio\"]['char_count'].mean())\n",
        "print(df_train[df_train['Clase']==\"Combinación\"]['char_count'].mean())"
      ],
      "metadata": {
        "colab": {
          "base_uri": "https://localhost:8080/"
        },
        "id": "OB2oPUKrlzl_",
        "outputId": "46428299-7b5e-4674-fffa-d1502e17c83d"
      },
      "execution_count": null,
      "outputs": [
        {
          "output_type": "stream",
          "name": "stdout",
          "text": [
            "115.05228758169935\n",
            "147.14\n",
            "111.171974522293\n",
            "115.05228758169935\n"
          ]
        }
      ]
    },
    {
      "cell_type": "code",
      "source": [
        "df_train.isnull()"
      ],
      "metadata": {
        "colab": {
          "base_uri": "https://localhost:8080/",
          "height": 424
        },
        "id": "hVuAX_G8TpAS",
        "outputId": "c685a9fc-33e6-4e6f-f625-aabcaa1ff1dd"
      },
      "execution_count": null,
      "outputs": [
        {
          "output_type": "execute_result",
          "data": {
            "text/plain": [
              "     Problema  Clase  word_count  char_count\n",
              "0       False  False       False       False\n",
              "1       False  False       False       False\n",
              "2       False  False       False       False\n",
              "3       False  False       False       False\n",
              "4       False  False       False       False\n",
              "..        ...    ...         ...         ...\n",
              "599     False  False       False       False\n",
              "600     False  False       False       False\n",
              "601     False  False       False       False\n",
              "602     False  False       False       False\n",
              "603     False  False       False       False\n",
              "\n",
              "[604 rows x 4 columns]"
            ],
            "text/html": [
              "\n",
              "  <div id=\"df-e69cf16c-15d6-4e30-a463-e2e2447a5cf9\">\n",
              "    <div class=\"colab-df-container\">\n",
              "      <div>\n",
              "<style scoped>\n",
              "    .dataframe tbody tr th:only-of-type {\n",
              "        vertical-align: middle;\n",
              "    }\n",
              "\n",
              "    .dataframe tbody tr th {\n",
              "        vertical-align: top;\n",
              "    }\n",
              "\n",
              "    .dataframe thead th {\n",
              "        text-align: right;\n",
              "    }\n",
              "</style>\n",
              "<table border=\"1\" class=\"dataframe\">\n",
              "  <thead>\n",
              "    <tr style=\"text-align: right;\">\n",
              "      <th></th>\n",
              "      <th>Problema</th>\n",
              "      <th>Clase</th>\n",
              "      <th>word_count</th>\n",
              "      <th>char_count</th>\n",
              "    </tr>\n",
              "  </thead>\n",
              "  <tbody>\n",
              "    <tr>\n",
              "      <th>0</th>\n",
              "      <td>False</td>\n",
              "      <td>False</td>\n",
              "      <td>False</td>\n",
              "      <td>False</td>\n",
              "    </tr>\n",
              "    <tr>\n",
              "      <th>1</th>\n",
              "      <td>False</td>\n",
              "      <td>False</td>\n",
              "      <td>False</td>\n",
              "      <td>False</td>\n",
              "    </tr>\n",
              "    <tr>\n",
              "      <th>2</th>\n",
              "      <td>False</td>\n",
              "      <td>False</td>\n",
              "      <td>False</td>\n",
              "      <td>False</td>\n",
              "    </tr>\n",
              "    <tr>\n",
              "      <th>3</th>\n",
              "      <td>False</td>\n",
              "      <td>False</td>\n",
              "      <td>False</td>\n",
              "      <td>False</td>\n",
              "    </tr>\n",
              "    <tr>\n",
              "      <th>4</th>\n",
              "      <td>False</td>\n",
              "      <td>False</td>\n",
              "      <td>False</td>\n",
              "      <td>False</td>\n",
              "    </tr>\n",
              "    <tr>\n",
              "      <th>...</th>\n",
              "      <td>...</td>\n",
              "      <td>...</td>\n",
              "      <td>...</td>\n",
              "      <td>...</td>\n",
              "    </tr>\n",
              "    <tr>\n",
              "      <th>599</th>\n",
              "      <td>False</td>\n",
              "      <td>False</td>\n",
              "      <td>False</td>\n",
              "      <td>False</td>\n",
              "    </tr>\n",
              "    <tr>\n",
              "      <th>600</th>\n",
              "      <td>False</td>\n",
              "      <td>False</td>\n",
              "      <td>False</td>\n",
              "      <td>False</td>\n",
              "    </tr>\n",
              "    <tr>\n",
              "      <th>601</th>\n",
              "      <td>False</td>\n",
              "      <td>False</td>\n",
              "      <td>False</td>\n",
              "      <td>False</td>\n",
              "    </tr>\n",
              "    <tr>\n",
              "      <th>602</th>\n",
              "      <td>False</td>\n",
              "      <td>False</td>\n",
              "      <td>False</td>\n",
              "      <td>False</td>\n",
              "    </tr>\n",
              "    <tr>\n",
              "      <th>603</th>\n",
              "      <td>False</td>\n",
              "      <td>False</td>\n",
              "      <td>False</td>\n",
              "      <td>False</td>\n",
              "    </tr>\n",
              "  </tbody>\n",
              "</table>\n",
              "<p>604 rows × 4 columns</p>\n",
              "</div>\n",
              "      <button class=\"colab-df-convert\" onclick=\"convertToInteractive('df-e69cf16c-15d6-4e30-a463-e2e2447a5cf9')\"\n",
              "              title=\"Convert this dataframe to an interactive table.\"\n",
              "              style=\"display:none;\">\n",
              "        \n",
              "  <svg xmlns=\"http://www.w3.org/2000/svg\" height=\"24px\"viewBox=\"0 0 24 24\"\n",
              "       width=\"24px\">\n",
              "    <path d=\"M0 0h24v24H0V0z\" fill=\"none\"/>\n",
              "    <path d=\"M18.56 5.44l.94 2.06.94-2.06 2.06-.94-2.06-.94-.94-2.06-.94 2.06-2.06.94zm-11 1L8.5 8.5l.94-2.06 2.06-.94-2.06-.94L8.5 2.5l-.94 2.06-2.06.94zm10 10l.94 2.06.94-2.06 2.06-.94-2.06-.94-.94-2.06-.94 2.06-2.06.94z\"/><path d=\"M17.41 7.96l-1.37-1.37c-.4-.4-.92-.59-1.43-.59-.52 0-1.04.2-1.43.59L10.3 9.45l-7.72 7.72c-.78.78-.78 2.05 0 2.83L4 21.41c.39.39.9.59 1.41.59.51 0 1.02-.2 1.41-.59l7.78-7.78 2.81-2.81c.8-.78.8-2.07 0-2.86zM5.41 20L4 18.59l7.72-7.72 1.47 1.35L5.41 20z\"/>\n",
              "  </svg>\n",
              "      </button>\n",
              "      \n",
              "  <style>\n",
              "    .colab-df-container {\n",
              "      display:flex;\n",
              "      flex-wrap:wrap;\n",
              "      gap: 12px;\n",
              "    }\n",
              "\n",
              "    .colab-df-convert {\n",
              "      background-color: #E8F0FE;\n",
              "      border: none;\n",
              "      border-radius: 50%;\n",
              "      cursor: pointer;\n",
              "      display: none;\n",
              "      fill: #1967D2;\n",
              "      height: 32px;\n",
              "      padding: 0 0 0 0;\n",
              "      width: 32px;\n",
              "    }\n",
              "\n",
              "    .colab-df-convert:hover {\n",
              "      background-color: #E2EBFA;\n",
              "      box-shadow: 0px 1px 2px rgba(60, 64, 67, 0.3), 0px 1px 3px 1px rgba(60, 64, 67, 0.15);\n",
              "      fill: #174EA6;\n",
              "    }\n",
              "\n",
              "    [theme=dark] .colab-df-convert {\n",
              "      background-color: #3B4455;\n",
              "      fill: #D2E3FC;\n",
              "    }\n",
              "\n",
              "    [theme=dark] .colab-df-convert:hover {\n",
              "      background-color: #434B5C;\n",
              "      box-shadow: 0px 1px 3px 1px rgba(0, 0, 0, 0.15);\n",
              "      filter: drop-shadow(0px 1px 2px rgba(0, 0, 0, 0.3));\n",
              "      fill: #FFFFFF;\n",
              "    }\n",
              "  </style>\n",
              "\n",
              "      <script>\n",
              "        const buttonEl =\n",
              "          document.querySelector('#df-e69cf16c-15d6-4e30-a463-e2e2447a5cf9 button.colab-df-convert');\n",
              "        buttonEl.style.display =\n",
              "          google.colab.kernel.accessAllowed ? 'block' : 'none';\n",
              "\n",
              "        async function convertToInteractive(key) {\n",
              "          const element = document.querySelector('#df-e69cf16c-15d6-4e30-a463-e2e2447a5cf9');\n",
              "          const dataTable =\n",
              "            await google.colab.kernel.invokeFunction('convertToInteractive',\n",
              "                                                     [key], {});\n",
              "          if (!dataTable) return;\n",
              "\n",
              "          const docLinkHtml = 'Like what you see? Visit the ' +\n",
              "            '<a target=\"_blank\" href=https://colab.research.google.com/notebooks/data_table.ipynb>data table notebook</a>'\n",
              "            + ' to learn more about interactive tables.';\n",
              "          element.innerHTML = '';\n",
              "          dataTable['output_type'] = 'display_data';\n",
              "          await google.colab.output.renderOutput(dataTable, element);\n",
              "          const docLink = document.createElement('div');\n",
              "          docLink.innerHTML = docLinkHtml;\n",
              "          element.appendChild(docLink);\n",
              "        }\n",
              "      </script>\n",
              "    </div>\n",
              "  </div>\n",
              "  "
            ]
          },
          "metadata": {},
          "execution_count": 68
        }
      ]
    },
    {
      "cell_type": "markdown",
      "source": [
        "Realizamos el procesamiento de texto \n"
      ],
      "metadata": {
        "id": "f2GQZ2Trl1nF"
      }
    },
    {
      "cell_type": "code",
      "source": [
        "#convertir a minúsculas, quitar y eliminar puntuaciones\n",
        "def preprocess(text):\n",
        "    text = text.lower() \n",
        "    text=text.strip()  \n",
        "    text=re.compile('<.*?>').sub('', text) \n",
        "    text = re.compile('[%s]' % re.escape(string.punctuation)).sub(' ', text)  \n",
        "    text = re.sub('\\s+', ' ', text)  \n",
        "    text = re.sub(r'\\[[0-9]*\\]',' ',text) \n",
        "    text=re.sub(r'[^\\w\\s]', '', str(text).lower().strip())\n",
        "    text = re.sub(r'\\d',' ',text) \n",
        "    text = re.sub(r'\\s+',' ',text) \n",
        "    return text\n",
        "\n",
        " \n",
        "# ELIMINACIÓN DE PALABRAS DE PARO\n",
        "def stopword(string):\n",
        "    a= [i for i in string.split() if i not in stopwords.words('english')]\n",
        "    return ' '.join(a)\n",
        "#LEMMATIZATION\n",
        "# Inicializar el lemmatizer(\n",
        "wl = WordNetLemmatizer()\n",
        "\n",
        "# Esta es una función auxiliar para mapear etiquetas de posición NTLK\n",
        "def get_wordnet_pos(tag):\n",
        "    if tag.startswith('J'):\n",
        "        return wordnet.ADJ\n",
        "    elif tag.startswith('V'):\n",
        "        return wordnet.VERB\n",
        "    elif tag.startswith('N'):\n",
        "        return wordnet.NOUN\n",
        "    elif tag.startswith('R'):\n",
        "        return wordnet.ADV\n",
        "    else:\n",
        "        return wordnet.NOUN\n",
        "# Tokenizar la oración\n",
        "def lemmatizer(string):\n",
        "    word_pos_tags = nltk.pos_tag(word_tokenize(string)) # Coge la posición \n",
        "    a=[wl.lemmatize(tag[0], get_wordnet_pos(tag[1])) for idx, tag in enumerate(word_pos_tags)] # Map the position tag and lemmatize the word/token\n",
        "    return \" \".join(a)\n",
        "\n",
        "def finalpreprocess(string):\n",
        "    return lemmatizer(stopword(preprocess(string)))\n"
      ],
      "metadata": {
        "id": "woetAR6el5bp"
      },
      "execution_count": null,
      "outputs": []
    },
    {
      "cell_type": "code",
      "source": [
        "df_train['clean_text'] = df_train['Problema'].apply(lambda x: finalpreprocess(x))"
      ],
      "metadata": {
        "id": "21lMRt90mInN"
      },
      "execution_count": null,
      "outputs": []
    },
    {
      "cell_type": "markdown",
      "source": [
        "Mostramos como que queda nuestra variable 'Clean_text' que sera la que este \"limpia\""
      ],
      "metadata": {
        "id": "8xRTb5jkuKFV"
      }
    },
    {
      "cell_type": "code",
      "source": [
        "df_train['clean_text']"
      ],
      "metadata": {
        "colab": {
          "base_uri": "https://localhost:8080/"
        },
        "id": "X2q9BiDpuJXK",
        "outputId": "4b74a319-d0b8-4eae-f88f-f13d0cd2998b"
      },
      "execution_count": null,
      "outputs": [
        {
          "output_type": "execute_result",
          "data": {
            "text/plain": [
              "0      amparo tiene lapices le da israel cuántas le q...\n",
              "1      ana pesaba kilo ha engordado kilo cuánto pesa ...\n",
              "2      ana su hermana tenían ahorrados euro se han ga...\n",
              "3      andrés tenía tazos después de jugar ha reunido...\n",
              "4      andrés tenía tazos después de jugar le quedan ...\n",
              "                             ...                        \n",
              "599    un panadero tiene que repartir barras de pan s...\n",
              "600    un panadero vende roscas de pan si vende barra...\n",
              "601    una caja de manzanas pesa kilogramos otra caja...\n",
              "602    una manada de cebras están bebiendo en el lado...\n",
              "603    una torre que mide metro de alta tiene ladrill...\n",
              "Name: clean_text, Length: 604, dtype: object"
            ]
          },
          "metadata": {},
          "execution_count": 71
        }
      ]
    },
    {
      "cell_type": "markdown",
      "source": [
        "Una vez que tenemos esto, dividimos el dataset en train y test "
      ],
      "metadata": {
        "id": "UD2ricz8ulpo"
      }
    },
    {
      "cell_type": "code",
      "source": [
        "#SPLITTING THE TRAINING DATASET INTO TRAIN AND TEST\n",
        "X_train, X_test, y_train, y_test = train_test_split(df_train[\"clean_text\"],df_train[\"Clase\"],test_size=0.2,shuffle=True)\n",
        "#Word2Vec\n",
        "# Word2Vec runs on tokenized sentences\n",
        "X_train_tok= [nltk.word_tokenize(i) for i in X_train]  \n",
        "X_test_tok= [nltk.word_tokenize(i) for i in X_test]"
      ],
      "metadata": {
        "id": "fWqFRQcQu7cj"
      },
      "execution_count": null,
      "outputs": []
    },
    {
      "cell_type": "code",
      "source": [
        "#Tf-Idf\n",
        "tfidf_vectorizer = TfidfVectorizer(use_idf=True)\n",
        "X_train_vectors_tfidf = tfidf_vectorizer.fit_transform(X_train) \n",
        "X_test_vectors_tfidf = tfidf_vectorizer.transform(X_test)\n",
        "#building Word2Vec model\n",
        "class MeanEmbeddingVectorizer(object):\n",
        "    def __init__(self, word2vec):\n",
        "        self.word2vec = word2vec\n",
        "        # if a text is empty we should return a vector of zeros\n",
        "        # with the same dimensionality as all the other vectors\n",
        "        #self.dim = len(word2vec.itervalues().next())\n",
        "        self.dim = 100\n",
        "\n",
        "    def fit(self, X, y):\n",
        "        return self\n",
        "\n",
        "    def transform(self, X):\n",
        "        return np.array([\n",
        "            np.mean([self.word2vec[w] for w in words if w in self.word2vec]\n",
        "                    or [np.zeros(self.dim)], axis=0)\n",
        "            for words in X\n",
        "        ])"
      ],
      "metadata": {
        "id": "lB3vDRpxmPVo"
      },
      "execution_count": null,
      "outputs": []
    },
    {
      "cell_type": "code",
      "source": [
        "df_train['clean_text_tok']=[nltk.word_tokenize(i) for i in df_train['clean_text']]   \n",
        "model = Word2Vec(df_train['clean_text_tok'],min_count=1)\n",
        "w2v=dict(zip(model.wv.index2word,model.wv.vectors))\n",
        "modelw=MeanEmbeddingVectorizer(w2v)\n",
        "\n",
        "# converting text to numerical data using Word2Vec\n",
        "X_train_vectors_w2v=modelw.transform(X_train_tok)\n",
        "X_test_vectors_w2v = modelw.transform(X_test_tok)"
      ],
      "metadata": {
        "id": "GdnF9lv0wARr"
      },
      "execution_count": null,
      "outputs": []
    },
    {
      "cell_type": "markdown",
      "source": [
        "Regresión lineal "
      ],
      "metadata": {
        "id": "Ta4EmNrNc7_T"
      }
    },
    {
      "cell_type": "markdown",
      "source": [
        "Transformanos las variables cateogoricas a numéricas para poner usarlas en el modelo lineal "
      ],
      "metadata": {
        "id": "qCTS3YW7c99k"
      }
    },
    {
      "cell_type": "code",
      "source": [
        "from numpy import array\n",
        "from numpy import argmax\n",
        "from sklearn.preprocessing import LabelEncoder\n",
        "from sklearn.preprocessing import OneHotEncoder\n",
        "\n",
        "values = array(y_train)\n",
        "label_encoder = LabelEncoder()\n",
        "y_train_encoded = label_encoder.fit_transform(values)\n",
        "print(y_train_encoded)\n",
        "\n",
        "values2 = array(y_test)\n",
        "label_encoder = LabelEncoder()\n",
        "y_test_encoded = label_encoder.fit_transform(values2)\n",
        "print(y_test_encoded)\n"
      ],
      "metadata": {
        "colab": {
          "base_uri": "https://localhost:8080/"
        },
        "id": "r6V34E6CYmfn",
        "outputId": "299e73a8-ebcc-4b56-9f9d-78e28d77128a"
      },
      "execution_count": null,
      "outputs": [
        {
          "output_type": "stream",
          "name": "stdout",
          "text": [
            "[0 1 1 0 3 1 3 2 0 0 0 3 2 3 1 1 2 3 3 1 1 1 2 3 1 3 2 0 2 1 2 1 2 2 2 3 0\n",
            " 1 2 2 0 3 1 3 1 0 1 0 2 0 0 0 2 2 3 1 3 3 0 2 1 2 2 1 0 1 3 3 0 1 3 1 2 1\n",
            " 0 3 2 1 2 1 2 2 1 0 0 0 2 1 2 3 3 3 3 0 0 3 2 2 1 3 1 0 1 0 1 1 1 3 2 2 1\n",
            " 3 2 0 2 1 1 1 3 3 0 1 0 3 0 0 2 0 3 1 3 1 1 3 2 0 0 2 0 1 1 1 3 2 2 3 3 1\n",
            " 2 0 2 2 0 3 2 0 3 0 0 2 1 1 3 1 2 2 2 0 3 3 0 1 3 0 1 3 3 0 0 1 1 2 2 3 2\n",
            " 2 0 2 3 0 0 0 1 0 0 0 1 2 1 2 2 1 3 0 3 1 3 3 2 0 1 3 3 1 2 3 3 0 0 0 1 1\n",
            " 3 0 1 1 2 1 1 3 0 2 2 1 2 3 1 2 3 1 3 1 0 1 1 1 0 2 3 3 2 0 2 2 3 3 1 1 1\n",
            " 0 0 3 3 2 2 0 0 2 3 1 2 2 3 2 3 0 2 3 1 0 2 2 2 3 0 0 2 2 0 1 0 1 1 1 3 3\n",
            " 1 3 0 3 2 2 0 3 3 2 3 1 2 3 2 1 1 1 3 0 1 1 3 2 0 0 1 2 1 1 3 3 1 1 0 3 2\n",
            " 2 0 2 3 3 3 0 2 3 3 0 1 1 3 3 3 0 3 3 1 2 2 0 3 1 0 1 0 3 1 2 3 2 1 1 2 2\n",
            " 1 1 2 2 0 3 0 1 3 1 1 1 0 3 0 3 1 1 3 3 2 2 2 0 0 2 2 0 3 0 2 1 0 3 0 2 0\n",
            " 0 0 1 0 0 3 3 2 1 0 0 0 1 3 3 3 1 1 0 3 3 1 2 0 3 2 3 3 2 1 0 3 1 3 2 0 0\n",
            " 0 1 0 0 3 1 2 3 1 3 2 2 1 2 3 0 3 0 1 2 1 0 3 1 2 0 0 2 0 1 2 3 0 0 3 2 1\n",
            " 2 3]\n",
            "[3 3 0 0 3 1 2 3 0 0 2 3 2 2 0 3 2 3 3 1 0 3 1 3 0 1 2 2 3 0 3 0 0 1 2 2 1\n",
            " 3 0 0 1 3 1 3 0 0 1 0 3 0 1 3 1 2 1 0 0 2 3 1 2 2 0 2 3 1 1 2 0 3 1 2 3 1\n",
            " 2 2 1 2 2 3 2 0 2 0 2 1 0 0 1 0 1 3 0 0 2 1 0 3 0 1 0 2 1 0 1 1 0 3 0 0 1\n",
            " 0 0 2 3 0 0 0 2 2 0]\n"
          ]
        }
      ]
    },
    {
      "cell_type": "code",
      "source": [
        "#AJUSTE DEL MODELO DE CLASIFICACIÓN mediante Regresión Lineal tf-idf)\n",
        "regr = linear_model.LinearRegression()\n",
        "regr.fit(X_train_vectors_tfidf, y_train_encoded)  \n",
        "#Predecir el valor y para el conjunto de datos de prueba\n",
        "y_predict = regr.predict(X_test_vectors_tfidf)\n",
        "# Los coeficientes \n",
        "print(\"Coeficientes: \\n\", regr.coef_)\n",
        "# El error cuadrático medio\n",
        "print(\" El error cuadrático medio: %.2f\" % mean_squared_error(y_test_encoded, y_predict))\n",
        "# El coeficiente de determinación: 1 es predicción perfecta\n",
        "print(\"Coeficiente de determinación: %.2f\" % r2_score(y_test_encoded, y_predict))"
      ],
      "metadata": {
        "colab": {
          "base_uri": "https://localhost:8080/"
        },
        "id": "68A_vqDlHoIA",
        "outputId": "7fb1c859-7bfb-4030-aaa9-55cf955b3f8a"
      },
      "execution_count": null,
      "outputs": [
        {
          "output_type": "stream",
          "name": "stdout",
          "text": [
            "Coeficientes: \n",
            " [ 1.38181385  0.44117435 -0.77769686 ... -0.00328041  0.3015603\n",
            " -0.71979612]\n",
            " El error cuadrático medio: 0.30\n",
            "Coeficiente de determinación: 0.78\n"
          ]
        }
      ]
    },
    {
      "cell_type": "markdown",
      "source": [
        "Regresión Logística"
      ],
      "metadata": {
        "id": "lvImKiUsT-sT"
      }
    },
    {
      "cell_type": "code",
      "source": [
        "#FITTING THE CLASSIFICATION MODEL using Logic Regression(tf-idf)\n",
        "lr_tfidf=LogisticRegression(solver = 'liblinear', C=10, penalty = 'l2')\n",
        "lr_tfidf.fit(X_train_vectors_tfidf, y_train)  \n",
        "#Predecir el valor y para el conjunto de datos de prueba\n",
        "y_predict = lr_tfidf.predict(X_test_vectors_tfidf)\n",
        "y_prob = lr_tfidf.predict_proba(X_test_vectors_tfidf)[:,1]\n",
        "print(classification_report(y_test,y_predict))\n",
        "matriz_confusion= confusion_matrix(y_test, y_predict)\n",
        "sns.heatmap(matriz_confusion, annot=True, cmap=\"Oranges\")\n",
        "print(\"LogisticRegression Accuracy Score->\",accuracy_score(y_predict,y_test)*100)"
      ],
      "metadata": {
        "colab": {
          "base_uri": "https://localhost:8080/",
          "height": 479
        },
        "id": "gR46HmUymXZv",
        "outputId": "f27f344e-5d52-4134-e00a-370bf0e55ef9"
      },
      "execution_count": null,
      "outputs": [
        {
          "output_type": "stream",
          "name": "stdout",
          "text": [
            "              precision    recall  f1-score   support\n",
            "\n",
            "      Cambio       0.94      0.78      0.85        40\n",
            " Combinación       0.76      0.81      0.79        27\n",
            " Comparación       0.93      0.96      0.95        28\n",
            "  Igualación       0.87      1.00      0.93        26\n",
            "\n",
            "    accuracy                           0.88       121\n",
            "   macro avg       0.87      0.89      0.88       121\n",
            "weighted avg       0.88      0.88      0.87       121\n",
            "\n",
            "LogisticRegression Accuracy Score-> 87.60330578512396\n"
          ]
        },
        {
          "output_type": "display_data",
          "data": {
            "text/plain": [
              "<Figure size 432x288 with 2 Axes>"
            ],
            "image/png": "[encoded data removed]"
          },
          "metadata": {
            "needs_background": "light"
          }
        }
      ]
    },
    {
      "cell_type": "code",
      "source": [
        "#FITTING THE CLASSIFICATION MODEL using Logistic Regression (W2v)\n",
        "lr_w2v=LogisticRegression(solver = 'liblinear', C=10, penalty = 'l2')\n",
        "lr_w2v.fit(X_train_vectors_w2v, y_train)  #model\n",
        "#Predecir el valor y para el conjunto de datos de prueba\n",
        "y_predict = lr_w2v.predict(X_test_vectors_w2v)\n",
        "y_prob = lr_w2v.predict_proba(X_test_vectors_w2v)[:,1]\n",
        "print(classification_report(y_test,y_predict))\n",
        "matriz_confusion= confusion_matrix(y_test, y_predict)\n",
        "sns.heatmap(matriz_confusion, annot=True, cmap=\"Oranges\")\n",
        "print(\"Logistic Regression Accuracy Score->\",accuracy_score(y_predict,y_test)*100)"
      ],
      "metadata": {
        "colab": {
          "base_uri": "https://localhost:8080/",
          "height": 483
        },
        "id": "Wy2DyU0DmR4I",
        "outputId": "35763a62-af07-4c7c-8b00-c3920085c258"
      },
      "execution_count": null,
      "outputs": [
        {
          "output_type": "stream",
          "name": "stdout",
          "text": [
            "              precision    recall  f1-score   support\n",
            "\n",
            "      Cambio       0.47      0.50      0.48        40\n",
            " Combinación       0.22      0.15      0.18        27\n",
            " Comparación       0.37      0.71      0.49        28\n",
            "  Igualación       0.67      0.15      0.25        26\n",
            "\n",
            "    accuracy                           0.40       121\n",
            "   macro avg       0.43      0.38      0.35       121\n",
            "weighted avg       0.43      0.40      0.37       121\n",
            "\n",
            "Logistic Regression Accuracy Score-> 39.66942148760331\n"
          ]
        },
        {
          "output_type": "display_data",
          "data": {
            "text/plain": [
              "<Figure size 432x288 with 2 Axes>"
            ],
            "image/png": "[encoded data removed]"
          },
          "metadata": {
            "needs_background": "light"
          }
        }
      ]
    },
    {
      "cell_type": "markdown",
      "source": [
        "Naive Bayes"
      ],
      "metadata": {
        "id": "Vl5N0zc-URAd"
      }
    },
    {
      "cell_type": "code",
      "source": [
        "#FITTING THE CLASSIFICATION MODEL using Naive Bayes(tf-idf)\n",
        "nb_tfidf = MultinomialNB()\n",
        "nb_tfidf.fit(X_train_vectors_tfidf, y_train)  \n",
        "#Predecir el valor y para el conjunto de datos de prueba\n",
        "y_predict = nb_tfidf.predict(X_test_vectors_tfidf)\n",
        "y_prob = nb_tfidf.predict_proba(X_test_vectors_tfidf)[:,1]\n",
        "print(classification_report(y_test,y_predict))\n",
        "matriz_confusion= confusion_matrix(y_test, y_predict)\n",
        "sns.heatmap(matriz_confusion, annot=True, cmap=\"Oranges\")\n",
        "print(\"NB Accuracy Score->\",accuracy_score(y_predict,y_test)*100)"
      ],
      "metadata": {
        "id": "lnyWeE3Cm5Xp",
        "outputId": "e136c857-0577-4049-c6ee-c07991f8f94a",
        "colab": {
          "base_uri": "https://localhost:8080/",
          "height": 479
        }
      },
      "execution_count": null,
      "outputs": [
        {
          "output_type": "stream",
          "name": "stdout",
          "text": [
            "              precision    recall  f1-score   support\n",
            "\n",
            "      Cambio       0.85      0.72      0.78        40\n",
            " Combinación       0.67      0.74      0.70        27\n",
            " Comparación       0.86      0.89      0.88        28\n",
            "  Igualación       0.93      1.00      0.96        26\n",
            "\n",
            "    accuracy                           0.83       121\n",
            "   macro avg       0.83      0.84      0.83       121\n",
            "weighted avg       0.83      0.83      0.83       121\n",
            "\n",
            "NB Accuracy Score-> 82.64462809917356\n"
          ]
        },
        {
          "output_type": "display_data",
          "data": {
            "text/plain": [
              "<Figure size 432x288 with 2 Axes>"
            ],
            "image/png": "[encoded data removed]"
          },
          "metadata": {
            "needs_background": "light"
          }
        }
      ]
    },
    {
      "cell_type": "markdown",
      "source": [
        "SVM "
      ],
      "metadata": {
        "id": "DzB0cGtkUgYk"
      }
    },
    {
      "cell_type": "code",
      "source": [
        "#FITTING THE CLASSIFICATION MODEL Classifier - Algorithm - SVM\n",
        "SVM = svm.SVC(C=1.0, kernel='linear', degree=3, gamma='auto',probability=True)\n",
        "SVM.fit(X_train_vectors_tfidf, y_train)  \n",
        "#Predecir el valor y para el conjunto de datos de prueba\n",
        "predictions_SVM = SVM.predict(X_test_vectors_tfidf)\n",
        "y_prob = SVM.predict_proba(X_test_vectors_tfidf)[:,1]\n",
        "print(classification_report(y_test,predictions_SVM))\n",
        "matriz_confusion= confusion_matrix(y_test, predictions_SVM)\n",
        "sns.heatmap(matriz_confusion, annot=True, cmap=\"Oranges\")\n",
        "print(\"SVM Accuracy Score->\",accuracy_score(predictions_SVM,y_test)*100)"
      ],
      "metadata": {
        "colab": {
          "base_uri": "https://localhost:8080/",
          "height": 483
        },
        "id": "Z30cTyNVwNOv",
        "outputId": "d943837c-ddb8-4f78-f5e3-4447fadc8b0f"
      },
      "execution_count": null,
      "outputs": [
        {
          "output_type": "stream",
          "name": "stdout",
          "text": [
            "              precision    recall  f1-score   support\n",
            "\n",
            "      Cambio       0.73      0.86      0.79        28\n",
            " Combinación       0.85      0.68      0.75        34\n",
            " Comparación       1.00      0.92      0.96        24\n",
            "  Igualación       0.90      1.00      0.95        35\n",
            "\n",
            "    accuracy                           0.86       121\n",
            "   macro avg       0.87      0.86      0.86       121\n",
            "weighted avg       0.87      0.86      0.86       121\n",
            "\n",
            "SVM Accuracy Score-> 85.9504132231405\n"
          ]
        },
        {
          "output_type": "display_data",
          "data": {
            "text/plain": [
              "<Figure size 432x288 with 2 Axes>"
            ],
            "image/png": "[encoded data removed]"
          },
          "metadata": {
            "needs_background": "light"
          }
        }
      ]
    },
    {
      "cell_type": "markdown",
      "source": [
        "XGB"
      ],
      "metadata": {
        "id": "MMMK7A69ePJs"
      }
    },
    {
      "cell_type": "code",
      "source": [
        "#FITTING THE CLASSIFICATION MODEL Classifier - XGB\n",
        "XGBC = XGBClassifier()\n",
        "XGBC .fit(X_train_vectors_tfidf, y_train)  \n",
        "#Predecir el valor y para el conjunto de datos de prueba\n",
        "predictions_XGBC = XGBC.predict(X_test_vectors_tfidf)\n",
        "y_prob = XGBC.predict_proba(X_test_vectors_tfidf)[:,1]\n",
        "print(classification_report(y_test,predictions_XGBC))\n",
        "matriz_confusion= confusion_matrix(y_test, predictions_XGBC)\n",
        "sns.heatmap(matriz_confusion, annot=True, cmap=\"Oranges\")\n",
        "print(\"XGBC  Accuracy Score->\",accuracy_score(predictions_XGBC,y_test)*100)"
      ],
      "metadata": {
        "colab": {
          "base_uri": "https://localhost:8080/",
          "height": 483
        },
        "id": "nVzn9VDNxJnz",
        "outputId": "8582c4a0-a3dc-4dd0-d1b3-46d077ad0a43"
      },
      "execution_count": null,
      "outputs": [
        {
          "output_type": "stream",
          "name": "stdout",
          "text": [
            "              precision    recall  f1-score   support\n",
            "\n",
            "      Cambio       0.77      0.86      0.81        28\n",
            " Combinación       0.81      0.76      0.79        34\n",
            " Comparación       0.92      1.00      0.96        24\n",
            "  Igualación       0.94      0.86      0.90        35\n",
            "\n",
            "    accuracy                           0.86       121\n",
            "   macro avg       0.86      0.87      0.86       121\n",
            "weighted avg       0.86      0.86      0.86       121\n",
            "\n",
            "XGBC  Accuracy Score-> 85.9504132231405\n"
          ]
        },
        {
          "output_type": "display_data",
          "data": {
            "text/plain": [
              "<Figure size 432x288 with 2 Axes>"
            ],
            "image/png": "[encoded data removed]"
          },
          "metadata": {
            "needs_background": "light"
          }
        }
      ]
    },
    {
      "cell_type": "markdown",
      "source": [
        "**Vecinos Cercanos **"
      ],
      "metadata": {
        "id": "sbfeChpAeYAH"
      }
    },
    {
      "cell_type": "markdown",
      "source": [
        "KN3"
      ],
      "metadata": {
        "id": "psXMarZZeXEe"
      }
    },
    {
      "cell_type": "code",
      "source": [
        "#FITTING THE CLASSIFICATION MODEL Classifier - KNeighbors3\n",
        "KNeighbors = KNeighborsClassifier(n_neighbors=3)\n",
        "KNeighbors.fit(X_train_vectors_tfidf, y_train)  \n",
        "#Predecir el valor y para el conjunto de datos de prueba\n",
        "predictions_KNeighbors = KNeighbors.predict(X_test_vectors_tfidf)\n",
        "y_prob = KNeighbors.predict_proba(X_test_vectors_tfidf)[:,1]\n",
        "print(classification_report(y_test,predictions_KNeighbors))\n",
        "matriz_confusion= confusion_matrix(y_test, predictions_KNeighbors)\n",
        "sns.heatmap(matriz_confusion, annot=True, cmap=\"Oranges\")\n",
        "print(\"KNeighbors  Accuracy Score->\",accuracy_score(predictions_KNeighbors,y_test)*100)"
      ],
      "metadata": {
        "colab": {
          "base_uri": "https://localhost:8080/",
          "height": 483
        },
        "id": "fUOscbp-yXBK",
        "outputId": "54d5855a-2392-482a-8369-4e573460ae5c"
      },
      "execution_count": null,
      "outputs": [
        {
          "output_type": "stream",
          "name": "stdout",
          "text": [
            "              precision    recall  f1-score   support\n",
            "\n",
            "      Cambio       0.42      0.57      0.48        28\n",
            " Combinación       0.69      0.53      0.60        34\n",
            " Comparación       0.65      0.71      0.68        24\n",
            "  Igualación       0.81      0.71      0.76        35\n",
            "\n",
            "    accuracy                           0.63       121\n",
            "   macro avg       0.64      0.63      0.63       121\n",
            "weighted avg       0.65      0.63      0.63       121\n",
            "\n",
            "KNeighbors  Accuracy Score-> 62.8099173553719\n"
          ]
        },
        {
          "output_type": "display_data",
          "data": {
            "text/plain": [
              "<Figure size 432x288 with 2 Axes>"
            ],
            "image/png": "[encoded data removed]"
          },
          "metadata": {
            "needs_background": "light"
          }
        }
      ]
    },
    {
      "cell_type": "markdown",
      "source": [
        "KN5"
      ],
      "metadata": {
        "id": "peWMd0mieSDo"
      }
    },
    {
      "cell_type": "code",
      "source": [
        "#FITTING THE CLASSIFICATION MODEL Classifier - KNeighbors5\n",
        "KNeighbors = KNeighborsClassifier(n_neighbors=5)\n",
        "KNeighbors.fit(X_train_vectors_tfidf, y_train)  \n",
        "#Predecir el valor y para el conjunto de datos de prueba\n",
        "predictions_KNeighbors = KNeighbors.predict(X_test_vectors_tfidf)\n",
        "y_prob = KNeighbors.predict_proba(X_test_vectors_tfidf)[:,1]\n",
        "print(classification_report(y_test,predictions_KNeighbors))\n",
        "matriz_confusion= confusion_matrix(y_test, predictions_KNeighbors)\n",
        "sns.heatmap(matriz_confusion, annot=True, cmap=\"Oranges\")\n",
        "print(\"KNeighbors  Accuracy Score->\",accuracy_score(predictions_KNeighbors,y_test)*100)"
      ],
      "metadata": {
        "colab": {
          "base_uri": "https://localhost:8080/",
          "height": 479
        },
        "id": "EJgLbVgEyorY",
        "outputId": "6d8e6c26-0f47-488a-ec89-9a4c169117ab"
      },
      "execution_count": null,
      "outputs": [
        {
          "output_type": "stream",
          "name": "stdout",
          "text": [
            "              precision    recall  f1-score   support\n",
            "\n",
            "      Cambio       0.45      0.68      0.54        28\n",
            " Combinación       0.59      0.38      0.46        34\n",
            " Comparación       0.58      0.62      0.60        24\n",
            "  Igualación       0.74      0.66      0.70        35\n",
            "\n",
            "    accuracy                           0.58       121\n",
            "   macro avg       0.59      0.59      0.58       121\n",
            "weighted avg       0.60      0.58      0.58       121\n",
            "\n",
            "KNeighbors  Accuracy Score-> 57.85123966942148\n"
          ]
        },
        {
          "output_type": "display_data",
          "data": {
            "text/plain": [
              "<Figure size 432x288 with 2 Axes>"
            ],
            "image/png": "[encoded data removed]"
          },
          "metadata": {
            "needs_background": "light"
          }
        }
      ]
    },
    {
      "cell_type": "markdown",
      "source": [
        "KN7"
      ],
      "metadata": {
        "id": "d1fgeBLZeVCU"
      }
    },
    {
      "cell_type": "code",
      "source": [
        "#FITTING THE CLASSIFICATION MODEL Classifier - KNeighbors7\n",
        "KNeighbors = KNeighborsClassifier(n_neighbors=7)\n",
        "KNeighbors.fit(X_train_vectors_tfidf, y_train)  \n",
        "#Predecir el valor y para el conjunto de datos de prueba\n",
        "predictions_KNeighbors = KNeighbors.predict(X_test_vectors_tfidf)\n",
        "y_prob = KNeighbors.predict_proba(X_test_vectors_tfidf)[:,1]\n",
        "print(classification_report(y_test,predictions_KNeighbors))\n",
        "matriz_confusion= confusion_matrix(y_test, predictions_KNeighbors)\n",
        "sns.heatmap(matriz_confusion, annot=True, cmap=\"Oranges\")\n",
        "print(\"KNeighbors  Accuracy Score->\",accuracy_score(predictions_KNeighbors,y_test)*100)"
      ],
      "metadata": {
        "colab": {
          "base_uri": "https://localhost:8080/",
          "height": 479
        },
        "id": "cd34Y_uuy2L5",
        "outputId": "b32aebaa-3988-4aa3-8fae-6253c2fc026a"
      },
      "execution_count": null,
      "outputs": [
        {
          "output_type": "stream",
          "name": "stdout",
          "text": [
            "              precision    recall  f1-score   support\n",
            "\n",
            "      Cambio       0.50      0.71      0.59        28\n",
            " Combinación       0.68      0.50      0.58        34\n",
            " Comparación       0.60      0.62      0.61        24\n",
            "  Igualación       0.74      0.66      0.70        35\n",
            "\n",
            "    accuracy                           0.62       121\n",
            "   macro avg       0.63      0.62      0.62       121\n",
            "weighted avg       0.64      0.62      0.62       121\n",
            "\n",
            "KNeighbors  Accuracy Score-> 61.98347107438017\n"
          ]
        },
        {
          "output_type": "display_data",
          "data": {
            "text/plain": [
              "<Figure size 432x288 with 2 Axes>"
            ],
            "image/png": "[encoded data removed]"
          },
          "metadata": {
            "needs_background": "light"
          }
        }
      ]
    },
    {
      "cell_type": "markdown",
      "source": [
        "Radom Forest"
      ],
      "metadata": {
        "id": "FF_-wVYAo3F8"
      }
    },
    {
      "cell_type": "code",
      "source": [
        "#FITTING THE CLASSIFICATION MODEL Classifier - Random Forest \n",
        "RandomForest = RandomForestClassifier()\n",
        "RandomForest.fit(X_train_vectors_tfidf, y_train)  \n",
        "#Predecir el valor y para el conjunto de datos de prueba\n",
        "predictions_RandomForest = RandomForest.predict(X_test_vectors_tfidf)\n",
        "y_prob = RandomForest.predict_proba(X_test_vectors_tfidf)[:,1]\n",
        "print(classification_report(y_test,predictions_RandomForest))\n",
        "matriz_confusion= confusion_matrix(y_test, predictions_RandomForest)\n",
        "sns.heatmap(matriz_confusion, annot=True, cmap=\"Oranges\")\n",
        "print(\"RandomForest Accuracy Score->\",accuracy_score(predictions_RandomForest,y_test)*100)"
      ],
      "metadata": {
        "colab": {
          "base_uri": "https://localhost:8080/",
          "height": 483
        },
        "id": "rCKG23e_zBtL",
        "outputId": "88622896-e95f-4b95-a9ce-6879330d08ae"
      },
      "execution_count": null,
      "outputs": [
        {
          "output_type": "stream",
          "name": "stdout",
          "text": [
            "              precision    recall  f1-score   support\n",
            "\n",
            "      Cambio       0.87      0.93      0.90        28\n",
            " Combinación       0.93      0.82      0.87        34\n",
            " Comparación       1.00      1.00      1.00        24\n",
            "  Igualación       0.95      1.00      0.97        35\n",
            "\n",
            "    accuracy                           0.93       121\n",
            "   macro avg       0.94      0.94      0.94       121\n",
            "weighted avg       0.93      0.93      0.93       121\n",
            "\n",
            "RandomForest Accuracy Score-> 93.38842975206612\n"
          ]
        },
        {
          "output_type": "display_data",
          "data": {
            "text/plain": [
              "<Figure size 432x288 with 2 Axes>"
            ],
            "image/png": "[encoded data removed]"
          },
          "metadata": {
            "needs_background": "light"
          }
        }
      ]
    },
    {
      "cell_type": "code",
      "source": [
        "#Preprocesamiento del nuevo conjunto de datos\n",
        "df_test['clean_text'] = df_test['Problema'].apply(lambda x: finalpreprocess(x)) #preprocesamiento de los datos \n",
        "X_test=df_test['clean_text'] \n",
        "#convirtiendo palabras a datos numéricos usando tf-idf\n",
        "X_vector=tfidf_vectorizer.transform(X_test)\n",
        "#use el mejor modelo para predecir el valor 'objetivo' para el nuevo conjunto de datos \n",
        "y_predict = RandomForest.predict(X_vector)      \n",
        "y_prob = RandomForest.predict_proba(X_vector)[:,1]\n",
        "df_test['predict_prob']= y_prob\n",
        "df_test['target']= y_predict\n",
        "final=df_test[['clean_text','target']].reset_index(drop=True)\n",
        "print(final)"
      ],
      "metadata": {
        "colab": {
          "base_uri": "https://localhost:8080/",
          "height": 294
        },
        "id": "6-jemwGZMdsE",
        "outputId": "72d70378-2edb-447d-96b3-c6e4080cf38b"
      },
      "execution_count": null,
      "outputs": [
        {
          "output_type": "error",
          "ename": "NameError",
          "evalue": "ignored",
          "traceback": [
            "\u001b[0;31m---------------------------------------------------------------------------\u001b[0m",
            "\u001b[0;31mNameError\u001b[0m                                 Traceback (most recent call last)",
            "\u001b[0;32m<ipython-input-80-f8f9526b4d51>\u001b[0m in \u001b[0;36m<module>\u001b[0;34m()\u001b[0m\n\u001b[1;32m      5\u001b[0m \u001b[0mX_vector\u001b[0m\u001b[0;34m=\u001b[0m\u001b[0mtfidf_vectorizer\u001b[0m\u001b[0;34m.\u001b[0m\u001b[0mtransform\u001b[0m\u001b[0;34m(\u001b[0m\u001b[0mX_test\u001b[0m\u001b[0;34m)\u001b[0m\u001b[0;34m\u001b[0m\u001b[0;34m\u001b[0m\u001b[0m\n\u001b[1;32m      6\u001b[0m \u001b[0;31m#use el mejor modelo para predecir el valor 'objetivo' para el nuevo conjunto de datos\u001b[0m\u001b[0;34m\u001b[0m\u001b[0;34m\u001b[0m\u001b[0;34m\u001b[0m\u001b[0m\n\u001b[0;32m----> 7\u001b[0;31m \u001b[0my_predict\u001b[0m \u001b[0;34m=\u001b[0m \u001b[0mRandomForest\u001b[0m\u001b[0;34m.\u001b[0m\u001b[0mpredict\u001b[0m\u001b[0;34m(\u001b[0m\u001b[0mX_vector\u001b[0m\u001b[0;34m)\u001b[0m\u001b[0;34m\u001b[0m\u001b[0;34m\u001b[0m\u001b[0m\n\u001b[0m\u001b[1;32m      8\u001b[0m \u001b[0my_prob\u001b[0m \u001b[0;34m=\u001b[0m \u001b[0mRandomForest\u001b[0m\u001b[0;34m.\u001b[0m\u001b[0mpredict_proba\u001b[0m\u001b[0;34m(\u001b[0m\u001b[0mX_vector\u001b[0m\u001b[0;34m)\u001b[0m\u001b[0;34m[\u001b[0m\u001b[0;34m:\u001b[0m\u001b[0;34m,\u001b[0m\u001b[0;36m1\u001b[0m\u001b[0;34m]\u001b[0m\u001b[0;34m\u001b[0m\u001b[0;34m\u001b[0m\u001b[0m\n\u001b[1;32m      9\u001b[0m \u001b[0mdf_test\u001b[0m\u001b[0;34m[\u001b[0m\u001b[0;34m'predict_prob'\u001b[0m\u001b[0;34m]\u001b[0m\u001b[0;34m=\u001b[0m \u001b[0my_prob\u001b[0m\u001b[0;34m\u001b[0m\u001b[0;34m\u001b[0m\u001b[0m\n",
            "\u001b[0;31mNameError\u001b[0m: name 'RandomForest' is not defined"
          ]
        }
      ]
    }
  ]
}